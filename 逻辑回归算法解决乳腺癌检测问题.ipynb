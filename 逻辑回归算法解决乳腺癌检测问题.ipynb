{
 "cells": [
  {
   "cell_type": "code",
   "execution_count": 8,
   "id": "10c2d81a",
   "metadata": {},
   "outputs": [
    {
     "name": "stdout",
     "output_type": "stream",
     "text": [
      "样本数量: (569, 30); 阳性: 357; 阴性: 212\n",
      "[1.799e+01 1.038e+01 1.228e+02 1.001e+03 1.184e-01 2.776e-01 3.001e-01\n",
      " 1.471e-01 2.419e-01 7.871e-02 1.095e+00 9.053e-01 8.589e+00 1.534e+02\n",
      " 6.399e-03 4.904e-02 5.373e-02 1.587e-02 3.003e-02 6.193e-03 2.538e+01\n",
      " 1.733e+01 1.846e+02 2.019e+03 1.622e-01 6.656e-01 7.119e-01 2.654e-01\n",
      " 4.601e-01 1.189e-01]\n"
     ]
    }
   ],
   "source": [
    "from sklearn.datasets import load_breast_cancer  #准备数据集\n",
    "cancer = load_breast_cancer()\n",
    "X = cancer.data\n",
    "y = cancer.target\n",
    "print('样本数量: {0}; 阳性: {1}; 阴性: {2}'\n",
    "      .format(X.shape,y[y==1].shape[0],y[y==0].shape[0]))\n",
    "print(cancer.data[0])"
   ]
  },
  {
   "cell_type": "code",
   "execution_count": 12,
   "id": "7d141248",
   "metadata": {},
   "outputs": [
    {
     "name": "stdout",
     "output_type": "stream",
     "text": [
      "train score: 0.969231; test_score:0.929825\n"
     ]
    }
   ],
   "source": [
    "from sklearn.model_selection import train_test_split\n",
    "X_train,X_test,y_train,y_test = train_test_split(X,y,test_size=0.2)\n",
    "from sklearn.linear_model import LogisticRegression\n",
    "model = LogisticRegression(max_iter=9999)\n",
    "model.fit(X_train,y_train)\n",
    "train_score = model.score(X_train,y_train)\n",
    "test_score = model.score(X_test,y_test)\n",
    "print('train score: {train_score:.6f}; test_score:{test_score:.6f}'\n",
    "      .format(train_score=train_score,\n",
    "             test_score=test_score))"
   ]
  },
  {
   "cell_type": "code",
   "execution_count": 14,
   "id": "4de09eef",
   "metadata": {},
   "outputs": [
    {
     "name": "stdout",
     "output_type": "stream",
     "text": [
      "matchs: 114/114\n"
     ]
    }
   ],
   "source": [
    "#以下代码为验证\n",
    "import numpy as np\n",
    "y_pred = model.predict(X_test)\n",
    "print('matchs: {0}/{1}'.format(np.equal(y_pred,y_test).shape[0],y_test.shape[0]))"
   ]
  }
 ],
 "metadata": {
  "kernelspec": {
   "display_name": "Python 3",
   "language": "python",
   "name": "python3"
  },
  "language_info": {
   "codemirror_mode": {
    "name": "ipython",
    "version": 3
   },
   "file_extension": ".py",
   "mimetype": "text/x-python",
   "name": "python",
   "nbconvert_exporter": "python",
   "pygments_lexer": "ipython3",
   "version": "3.8.8"
  }
 },
 "nbformat": 4,
 "nbformat_minor": 5
}
